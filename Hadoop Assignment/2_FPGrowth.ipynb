{
 "cells": [
  {
   "cell_type": "code",
   "execution_count": 12,
   "metadata": {},
   "outputs": [],
   "source": [
    "#import required libraries\n",
    "from pyspark import SparkContext\n",
    "from pyspark.mllib.fpm import FPGrowth"
   ]
  },
  {
   "cell_type": "markdown",
   "metadata": {},
   "source": [
    "Create a new context and read the input file."
   ]
  },
  {
   "cell_type": "code",
   "execution_count": 14,
   "metadata": {},
   "outputs": [
    {
     "data": {
      "text/plain": [
       "accidents.dat MapPartitionsRDD[23] at textFile at NativeMethodAccessorImpl.java:0"
      ]
     },
     "execution_count": 14,
     "metadata": {},
     "output_type": "execute_result"
    }
   ],
   "source": [
    "sc = SparkContext.getOrCreate();\n",
    "data = sc.textFile(\"accidents.dat\")\n",
    "data"
   ]
  },
  {
   "cell_type": "markdown",
   "metadata": {},
   "source": [
    "Convert the data transactions to RDDs by applying map()."
   ]
  },
  {
   "cell_type": "code",
   "execution_count": 18,
   "metadata": {},
   "outputs": [
    {
     "data": {
      "text/plain": [
       "PythonRDD[25] at RDD at PythonRDD.scala:53"
      ]
     },
     "execution_count": 18,
     "metadata": {},
     "output_type": "execute_result"
    }
   ],
   "source": [
    "transactions = data.map(lambda line: line.strip().split(' '))\n",
    "transactions "
   ]
  },
  {
   "cell_type": "markdown",
   "metadata": {},
   "source": [
    "Here, transactions.collect() can be used to see the RDDs (as seen in previous 2 exercises). But since many transactions were there, this was freezing the system, which is why it is not shown here. \n",
    "\n",
    "Now, FPGrowth is applied on the transactions with a minimum support value of 80%."
   ]
  },
  {
   "cell_type": "code",
   "execution_count": 5,
   "metadata": {},
   "outputs": [],
   "source": [
    "model = FPGrowth.train(transactions, minSupport=0.8, numPartitions=10)\n",
    "result = model.freqItemsets().collect()"
   ]
  },
  {
   "cell_type": "code",
   "execution_count": 11,
   "metadata": {},
   "outputs": [
    {
     "data": {
      "text/plain": [
       "<pyspark.mllib.fpm.FPGrowthModel at 0x7faeec02bb70>"
      ]
     },
     "execution_count": 11,
     "metadata": {},
     "output_type": "execute_result"
    }
   ],
   "source": [
    "model"
   ]
  },
  {
   "cell_type": "markdown",
   "metadata": {},
   "source": [
    "The frequent itemsets are stored in result and shown."
   ]
  },
  {
   "cell_type": "code",
   "execution_count": 7,
   "metadata": {},
   "outputs": [
    {
     "data": {
      "text/plain": [
       "[FreqItemset(items=['15'], freq=243303),\n",
       " FreqItemset(items=['15', '18'], freq=242486),\n",
       " FreqItemset(items=['15', '18', '12'], freq=242398),\n",
       " FreqItemset(items=['15', '18', '12', '17'], freq=242368),\n",
       " FreqItemset(items=['15', '18', '17'], freq=242456),\n",
       " FreqItemset(items=['15', '12'], freq=242886),\n",
       " FreqItemset(items=['15', '12', '17'], freq=242856),\n",
       " FreqItemset(items=['15', '17'], freq=243273),\n",
       " FreqItemset(items=['17'], freq=302474),\n",
       " FreqItemset(items=['12'], freq=302032),\n",
       " FreqItemset(items=['12', '17'], freq=302001),\n",
       " FreqItemset(items=['18'], freq=301586),\n",
       " FreqItemset(items=['18', '12'], freq=301442),\n",
       " FreqItemset(items=['18', '12', '17'], freq=301411),\n",
       " FreqItemset(items=['18', '17'], freq=301555),\n",
       " FreqItemset(items=['16'], freq=295674),\n",
       " FreqItemset(items=['16', '18'], freq=295015),\n",
       " FreqItemset(items=['16', '18', '12'], freq=294885),\n",
       " FreqItemset(items=['16', '18', '12', '17'], freq=294854),\n",
       " FreqItemset(items=['16', '18', '17'], freq=294984),\n",
       " FreqItemset(items=['16', '12'], freq=295470),\n",
       " FreqItemset(items=['16', '12', '17'], freq=295439),\n",
       " FreqItemset(items=['16', '17'], freq=295643),\n",
       " FreqItemset(items=['31'], freq=282697),\n",
       " FreqItemset(items=['31', '18'], freq=281916),\n",
       " FreqItemset(items=['31', '18', '12'], freq=281798),\n",
       " FreqItemset(items=['31', '18', '12', '17'], freq=281772),\n",
       " FreqItemset(items=['31', '18', '17'], freq=281890),\n",
       " FreqItemset(items=['31', '12'], freq=282303),\n",
       " FreqItemset(items=['31', '12', '17'], freq=282277),\n",
       " FreqItemset(items=['31', '16'], freq=277577),\n",
       " FreqItemset(items=['31', '16', '18'], freq=277024),\n",
       " FreqItemset(items=['31', '16', '18', '12'], freq=276916),\n",
       " FreqItemset(items=['31', '16', '18', '12', '17'], freq=276890),\n",
       " FreqItemset(items=['31', '16', '18', '17'], freq=276998),\n",
       " FreqItemset(items=['31', '16', '12'], freq=277417),\n",
       " FreqItemset(items=['31', '16', '12', '17'], freq=277391),\n",
       " FreqItemset(items=['31', '16', '17'], freq=277551),\n",
       " FreqItemset(items=['31', '17'], freq=282671),\n",
       " FreqItemset(items=['21'], freq=268696),\n",
       " FreqItemset(items=['21', '18'], freq=267881),\n",
       " FreqItemset(items=['21', '18', '12'], freq=267745),\n",
       " FreqItemset(items=['21', '18', '12', '17'], freq=267715),\n",
       " FreqItemset(items=['21', '18', '17'], freq=267851),\n",
       " FreqItemset(items=['21', '31'], freq=252374),\n",
       " FreqItemset(items=['21', '31', '18'], freq=251671),\n",
       " FreqItemset(items=['21', '31', '18', '12'], freq=251560),\n",
       " FreqItemset(items=['21', '31', '18', '12', '17'], freq=251535),\n",
       " FreqItemset(items=['21', '31', '18', '17'], freq=251646),\n",
       " FreqItemset(items=['21', '31', '12'], freq=252021),\n",
       " FreqItemset(items=['21', '31', '12', '17'], freq=251996),\n",
       " FreqItemset(items=['21', '31', '16'], freq=247630),\n",
       " FreqItemset(items=['21', '31', '16', '18'], freq=247127),\n",
       " FreqItemset(items=['21', '31', '16', '18', '12'], freq=247026),\n",
       " FreqItemset(items=['21', '31', '16', '18', '12', '17'], freq=247001),\n",
       " FreqItemset(items=['21', '31', '16', '18', '17'], freq=247102),\n",
       " FreqItemset(items=['21', '31', '16', '12'], freq=247483),\n",
       " FreqItemset(items=['21', '31', '16', '12', '17'], freq=247458),\n",
       " FreqItemset(items=['21', '31', '16', '17'], freq=247605),\n",
       " FreqItemset(items=['21', '31', '17'], freq=252349),\n",
       " FreqItemset(items=['21', '12'], freq=268283),\n",
       " FreqItemset(items=['21', '12', '17'], freq=268253),\n",
       " FreqItemset(items=['21', '16'], freq=262458),\n",
       " FreqItemset(items=['21', '16', '18'], freq=261867),\n",
       " FreqItemset(items=['21', '16', '18', '12'], freq=261744),\n",
       " FreqItemset(items=['21', '16', '18', '12', '17'], freq=261714),\n",
       " FreqItemset(items=['21', '16', '18', '17'], freq=261837),\n",
       " FreqItemset(items=['21', '16', '12'], freq=262277),\n",
       " FreqItemset(items=['21', '16', '12', '17'], freq=262247),\n",
       " FreqItemset(items=['21', '16', '17'], freq=262428),\n",
       " FreqItemset(items=['21', '17'], freq=268666),\n",
       " FreqItemset(items=['29'], freq=265713),\n",
       " FreqItemset(items=['29', '18'], freq=264872),\n",
       " FreqItemset(items=['29', '18', '12'], freq=264740),\n",
       " FreqItemset(items=['29', '18', '12', '17'], freq=264709),\n",
       " FreqItemset(items=['29', '18', '17'], freq=264841),\n",
       " FreqItemset(items=['29', '31'], freq=248328),\n",
       " FreqItemset(items=['29', '31', '18'], freq=247612),\n",
       " FreqItemset(items=['29', '31', '18', '12'], freq=247503),\n",
       " FreqItemset(items=['29', '31', '18', '12', '17'], freq=247477),\n",
       " FreqItemset(items=['29', '31', '18', '17'], freq=247586),\n",
       " FreqItemset(items=['29', '31', '12'], freq=247977),\n",
       " FreqItemset(items=['29', '31', '12', '17'], freq=247951),\n",
       " FreqItemset(items=['29', '31', '16'], freq=243504),\n",
       " FreqItemset(items=['29', '31', '16', '18'], freq=242987),\n",
       " FreqItemset(items=['29', '31', '16', '18', '12'], freq=242888),\n",
       " FreqItemset(items=['29', '31', '16', '18', '12', '17'], freq=242862),\n",
       " FreqItemset(items=['29', '31', '16', '18', '17'], freq=242961),\n",
       " FreqItemset(items=['29', '31', '16', '12'], freq=243358),\n",
       " FreqItemset(items=['29', '31', '16', '12', '17'], freq=243332),\n",
       " FreqItemset(items=['29', '31', '16', '17'], freq=243478),\n",
       " FreqItemset(items=['29', '31', '17'], freq=248302),\n",
       " FreqItemset(items=['29', '12'], freq=265293),\n",
       " FreqItemset(items=['29', '12', '17'], freq=265262),\n",
       " FreqItemset(items=['29', '16'], freq=259354),\n",
       " FreqItemset(items=['29', '16', '18'], freq=258740),\n",
       " FreqItemset(items=['29', '16', '18', '12'], freq=258621),\n",
       " FreqItemset(items=['29', '16', '18', '12', '17'], freq=258590),\n",
       " FreqItemset(items=['29', '16', '18', '17'], freq=258709),\n",
       " FreqItemset(items=['29', '16', '12'], freq=259169),\n",
       " FreqItemset(items=['29', '16', '12', '17'], freq=259138),\n",
       " FreqItemset(items=['29', '16', '17'], freq=259323),\n",
       " FreqItemset(items=['29', '17'], freq=265682),\n",
       " FreqItemset(items=['43'], freq=258796),\n",
       " FreqItemset(items=['43', '18'], freq=258036),\n",
       " FreqItemset(items=['43', '18', '12'], freq=257910),\n",
       " FreqItemset(items=['43', '18', '12', '17'], freq=257881),\n",
       " FreqItemset(items=['43', '18', '17'], freq=258007),\n",
       " FreqItemset(items=['43', '31'], freq=242432),\n",
       " FreqItemset(items=['43', '31', '12'], freq=242098),\n",
       " FreqItemset(items=['43', '31', '12', '17'], freq=242073),\n",
       " FreqItemset(items=['43', '31', '17'], freq=242407),\n",
       " FreqItemset(items=['43', '12'], freq=258395),\n",
       " FreqItemset(items=['43', '12', '17'], freq=258366),\n",
       " FreqItemset(items=['43', '16'], freq=253353),\n",
       " FreqItemset(items=['43', '16', '18'], freq=252810),\n",
       " FreqItemset(items=['43', '16', '18', '12'], freq=252695),\n",
       " FreqItemset(items=['43', '16', '18', '12', '17'], freq=252666),\n",
       " FreqItemset(items=['43', '16', '18', '17'], freq=252781),\n",
       " FreqItemset(items=['43', '16', '12'], freq=253177),\n",
       " FreqItemset(items=['43', '16', '12', '17'], freq=253148),\n",
       " FreqItemset(items=['43', '16', '17'], freq=253324),\n",
       " FreqItemset(items=['43', '17'], freq=258767),\n",
       " FreqItemset(items=['27'], freq=251869),\n",
       " FreqItemset(items=['27', '18'], freq=251156),\n",
       " FreqItemset(items=['27', '18', '12'], freq=251048),\n",
       " FreqItemset(items=['27', '18', '12', '17'], freq=251021),\n",
       " FreqItemset(items=['27', '18', '17'], freq=251129),\n",
       " FreqItemset(items=['27', '12'], freq=251496),\n",
       " FreqItemset(items=['27', '12', '17'], freq=251469),\n",
       " FreqItemset(items=['27', '16'], freq=246558),\n",
       " FreqItemset(items=['27', '16', '18'], freq=246063),\n",
       " FreqItemset(items=['27', '16', '18', '12'], freq=245967),\n",
       " FreqItemset(items=['27', '16', '18', '12', '17'], freq=245940),\n",
       " FreqItemset(items=['27', '16', '18', '17'], freq=246036),\n",
       " FreqItemset(items=['27', '16', '12'], freq=246411),\n",
       " FreqItemset(items=['27', '16', '12', '17'], freq=246384),\n",
       " FreqItemset(items=['27', '16', '17'], freq=246531),\n",
       " FreqItemset(items=['27', '17'], freq=251842),\n",
       " FreqItemset(items=['24'], freq=243981),\n",
       " FreqItemset(items=['24', '18'], freq=243228),\n",
       " FreqItemset(items=['24', '18', '12'], freq=243112),\n",
       " FreqItemset(items=['24', '18', '12', '17'], freq=243090),\n",
       " FreqItemset(items=['24', '18', '17'], freq=243206),\n",
       " FreqItemset(items=['24', '12'], freq=243606),\n",
       " FreqItemset(items=['24', '12', '17'], freq=243584),\n",
       " FreqItemset(items=['24', '17'], freq=243959)]"
      ]
     },
     "execution_count": 7,
     "metadata": {},
     "output_type": "execute_result"
    }
   ],
   "source": [
    "result"
   ]
  },
  {
   "cell_type": "code",
   "execution_count": null,
   "metadata": {},
   "outputs": [],
   "source": []
  }
 ],
 "metadata": {
  "kernelspec": {
   "display_name": "Python 3",
   "language": "python",
   "name": "python3"
  },
  "language_info": {
   "codemirror_mode": {
    "name": "ipython",
    "version": 3
   },
   "file_extension": ".py",
   "mimetype": "text/x-python",
   "name": "python",
   "nbconvert_exporter": "python",
   "pygments_lexer": "ipython3",
   "version": "3.7.3"
  }
 },
 "nbformat": 4,
 "nbformat_minor": 4
}
